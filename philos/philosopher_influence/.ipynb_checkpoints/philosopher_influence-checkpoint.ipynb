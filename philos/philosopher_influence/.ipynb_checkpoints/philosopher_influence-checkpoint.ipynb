{
 "cells": [
  {
   "cell_type": "code",
   "execution_count": 98,
   "id": "c7e77d81-7fa5-45ab-aacc-bfe0a58118ff",
   "metadata": {},
   "outputs": [],
   "source": [
    "import pandas as pd\n",
    "import re\n",
    "from IPython.display import clear_output, display, HTML"
   ]
  },
  {
   "cell_type": "markdown",
   "id": "ff09f9af-36b9-4bff-8088-de4ac7600d86",
   "metadata": {},
   "source": [
    "* **Orginal Idea**: https://coppelia.io/2012/06/graphing-the-history-of-philosophy/"
   ]
  },
  {
   "cell_type": "markdown",
   "id": "7c6979c8-ad62-4d70-92b6-c6f4751cb3d7",
   "metadata": {},
   "source": [
    "**<font size = \"6\">The JNaaP Title**\n",
    "***"
   ]
  },
  {
   "cell_type": "markdown",
   "id": "a1a5de51-3028-439c-a220-3e84bcd2228a",
   "metadata": {},
   "source": [
    "### 1. Load Data and Exploratory Analysis\n",
    "\n",
    "#### Exploratory Analysis\n",
    "Structured content from Wikipedia can be access through DBpedia. Exploring some pages on philosophers, we find out that there are two relevant relational attributes:\n",
    "1. https://dbpedia.org/ontology/influenced i.e., The people, works or schools of thought that were **influenced by** this philosopher\n",
    "2. https://dbpedia.org/ontology/influencedBy i.e., The people, works or schools of thought that were an **influence on** this philosopher\n",
    " \n",
    " \n",
    "There are a few things to consider:\n",
    "1. DBpedia pages on the respective attributes say that these are mutual inverse of each other. However, it is not clear at this stage whether there is one to one relationship in the dataset for all links - i.e., an Influenced By link exists for each Influenced link and vice versa. This is something we will need to invstigate\n",
    "2. The subject and object of each relation can be a Person, Work or School of Thought (e.g., Neoplatonism). We are only interested in links between Philosophers, a subset of the category Persons. We will need to filter the data appropriately for this\n",
    "\n",
    "To achieve this we download four datasets:\n",
    "1. List of Wikipedia pages categorised as Philosophers http://dbpedia.org/ontology/Philosopher\n",
    "2. List of *Influenced_By* links (referred to as *influece_from* from now on)\n",
    "3. List of *Influenced* links (referred to as *influece_to* from now on)\n",
    "4. List of Philosophers with both *Influenced_By* and *Influenced* links\n"
   ]
  },
  {
   "cell_type": "code",
   "execution_count": 99,
   "id": "647e1ef1-a5a4-4297-bf1c-89074a837f4c",
   "metadata": {},
   "outputs": [],
   "source": [
    "# SPARQL Queries (DBpedia SPARQL endpoint: https://dbpedia.org/sparql) \n",
    "query = \\\n",
    "\"\"\"\n",
    "# Philosopher: \n",
    "SELECT ?Philosopher, ?BirthYr, ?DeathYr\n",
    "WHERE {\n",
    "?Philosopher a <http://dbpedia.org/ontology/Philosopher> .\n",
    "?Philosopher <http://dbpedia.org/ontology/birthYear> ?BirthYr .\n",
    "?Philosopher <http://dbpedia.org/ontology/deathYear> ?DeathYr .\n",
    "}\n",
    "\n",
    "# Influenced By: \n",
    "SELECT ?Philosopher, ?Influenced_By WHERE {\n",
    "?Philosopher a <http://dbpedia.org/ontology/Philosopher> .\n",
    "?Philosopher <http://dbpedia.org/ontology/influencedBy> ?Influenced_By .\n",
    "}\n",
    "\n",
    "# Influenced (To): \n",
    "SELECT ?Philosopher, ?Influenced \n",
    "WHERE {\n",
    "?Philosopher a <http://dbpedia.org/ontology/Philosopher> .\n",
    "?Philosopher <http://dbpedia.org/ontology/influenced> ?Influenced .\n",
    "}\n",
    "\n",
    "# Influenced (Two Way): \n",
    "SELECT ?Philosopher, ?Influenced_By, ?Influenced \n",
    "WHERE {\n",
    "?Philosopher a <http://dbpedia.org/ontology/Philosopher> .\n",
    "?Philosopher <http://dbpedia.org/ontology/influencedBy> ?Influenced_By .\n",
    "?Philosopher <http://dbpedia.org/ontology/influenced> ?Influenced .\n",
    "}\n",
    "\"\"\""
   ]
  },
  {
   "cell_type": "code",
   "execution_count": 100,
   "id": "02ff0ed0-bb81-460b-8971-28d96fbe2774",
   "metadata": {},
   "outputs": [],
   "source": [
    "list_data_xplor = []\n",
    "\n",
    "df_philosophers = pd.read_csv('philosophers.csv')\n",
    "list_data_xplor.append(\n",
    "    ['df_philosophers', df_philosophers.shape, df_philosophers[df_philosophers.isnull().any(axis=1)].shape[0], len(df_philosophers.iloc[:,0].unique())])\n",
    "\n",
    "df_influence_from = pd.read_csv('influence_from.csv')\n",
    "list_data_xplor.append(\n",
    "    ['df_influence_from', df_influence_from.shape, df_influence_from[df_influence_from.isnull().any(axis=1)].shape[0], len(df_influence_from.iloc[:,0].unique())])\n",
    "\n",
    "df_influence_to = pd.read_csv('influence_to.csv')\n",
    "list_data_xplor.append(\n",
    "    ['df_influence_to', df_influence_to.shape, df_influence_to[df_influence_to.isnull().any(axis=1)].shape[0], len(df_influence_to.iloc[:,0].unique())])\n",
    "\n",
    "df_influence_two_way = pd.read_csv('influence_two_way.csv')\n",
    "list_data_xplor.append(\n",
    "    ['df_influence_two_way', df_influence_two_way.shape, df_influence_two_way[df_influence_two_way.isnull().any(axis=1)].shape[0], len(df_influence_two_way.iloc[:,0].unique())])"
   ]
  },
  {
   "cell_type": "markdown",
   "id": "8d8529a8-4eb4-4c8d-afd2-f72c39fdd0ea",
   "metadata": {},
   "source": [
    "The table below gives the shape of each dataset and also the number of uniqe philosphers in each. We see that Wikipedia has 2854 unique pages on Philosophers (which is not to say that it has pages on 2854 philosophers, as we shall see later). \n",
    "\n",
    "We see that both influence_from and influence_to have much lower number of unique pages compared to the list of Philosophers. Also, the Number of unique pages is different for each. So clearly, there is no one to one relationship between the two. There might still be some duplicates. \n",
    "\n",
    "Number of Philosopher pages with both influence_from and influence_to is very small and we shall abandon this specific dataset \n",
    "\n",
    "Thankfully none of the rows in any of the datasets have NaNs, Yay!"
   ]
  },
  {
   "cell_type": "code",
   "execution_count": 101,
   "id": "fe1b7829-0fbc-4e5b-8d62-0d7b6e050176",
   "metadata": {},
   "outputs": [
    {
     "data": {
      "text/html": [
       "<table border=\"1\" class=\"dataframe\">\n",
       "  <thead>\n",
       "    <tr style=\"text-align: right;\">\n",
       "      <th></th>\n",
       "      <th>Data</th>\n",
       "      <th>Shape</th>\n",
       "      <th>Rows with NaN</th>\n",
       "      <th># Unique Pages</th>\n",
       "    </tr>\n",
       "  </thead>\n",
       "  <tbody>\n",
       "    <tr>\n",
       "      <th>0</th>\n",
       "      <td>df_philosophers</td>\n",
       "      <td>(2854, 1)</td>\n",
       "      <td>0</td>\n",
       "      <td>2854</td>\n",
       "    </tr>\n",
       "    <tr>\n",
       "      <th>1</th>\n",
       "      <td>df_influence_from</td>\n",
       "      <td>(7729, 2)</td>\n",
       "      <td>0</td>\n",
       "      <td>1666</td>\n",
       "    </tr>\n",
       "    <tr>\n",
       "      <th>2</th>\n",
       "      <td>df_influence_to</td>\n",
       "      <td>(5175, 2)</td>\n",
       "      <td>0</td>\n",
       "      <td>904</td>\n",
       "    </tr>\n",
       "    <tr>\n",
       "      <th>3</th>\n",
       "      <td>df_influence_two_way</td>\n",
       "      <td>(10000, 3)</td>\n",
       "      <td>0</td>\n",
       "      <td>174</td>\n",
       "    </tr>\n",
       "  </tbody>\n",
       "</table>"
      ],
      "text/plain": [
       "<IPython.core.display.HTML object>"
      ]
     },
     "metadata": {},
     "output_type": "display_data"
    }
   ],
   "source": [
    "df_xplor = pd.DataFrame(list_data_xplor, columns=[\"Data\", \"Shape\", \"Rows with NaN\", '# Unique Pages'])\n",
    "display(HTML(df_xplor.to_html()))"
   ]
  },
  {
   "cell_type": "markdown",
   "id": "ca73a49c-e91f-4322-b328-2bcdd35689f3",
   "metadata": {},
   "source": [
    "One more thing to cross check is whether the List of pages on Philosophers is a superset of Philosophers in influence_from and influence_to. The cell below shows this is that case. Yay #2 "
   ]
  },
  {
   "cell_type": "code",
   "execution_count": 102,
   "id": "bf3354e3-074c-44c2-b3fa-35a44a2093a1",
   "metadata": {},
   "outputs": [
    {
     "name": "stdout",
     "output_type": "stream",
     "text": [
      "True\n",
      "True\n"
     ]
    }
   ],
   "source": [
    "set_philosophers = set(df_philosophers.iloc[:,0])\n",
    "print(set(df_influence_from.iloc[:,0]).issubset(set_philosophers))\n",
    "print(set(df_influence_to.iloc[:,0]).issubset(set_philosophers))"
   ]
  },
  {
   "cell_type": "markdown",
   "id": "f66856f6-7393-4171-9c0c-23b3a6ffc683",
   "metadata": {},
   "source": [
    "### Data Cleaning"
   ]
  },
  {
   "cell_type": "markdown",
   "id": "00414ad6-9309-41c4-8308-59baa0bb2ea0",
   "metadata": {},
   "source": [
    "Thankfully there are no NaN rows, but we need to do some gentle cleaning\n",
    "\n",
    "1. Rename the columns consistently across dataframes to make life easier"
   ]
  },
  {
   "cell_type": "code",
   "execution_count": 103,
   "id": "5a82772b-62eb-445b-87d9-589121d7aed8",
   "metadata": {},
   "outputs": [],
   "source": [
    "col_names = {'Philosopher':'ph_url'}\n",
    "df_philosophers.rename(columns = col_names, inplace=True)\n",
    "\n",
    "col_names = {'Philosopher':'ph_url', 'Influenced_By': 'infl_from_url'}\n",
    "df_influence_from.rename(columns = col_names, inplace=True)\n",
    "\n",
    "col_names = {'Philosopher':'ph_url', 'Influenced': 'infl_to_url'}\n",
    "df_influence_to.rename(columns = col_names, inplace=True)"
   ]
  },
  {
   "cell_type": "markdown",
   "id": "97c78497-88d0-4997-8373-0730bd550d00",
   "metadata": {},
   "source": [
    "2. The data entries are in the form of URLs, lets extract names from these. Extraction scheme is simple - everything after the ../resource/ part in the URLs"
   ]
  },
  {
   "cell_type": "code",
   "execution_count": 104,
   "id": "31980430-799d-4a31-90cf-8bd1712291f2",
   "metadata": {},
   "outputs": [
    {
     "data": {
      "text/html": [
       "<div>\n",
       "<style scoped>\n",
       "    .dataframe tbody tr th:only-of-type {\n",
       "        vertical-align: middle;\n",
       "    }\n",
       "\n",
       "    .dataframe tbody tr th {\n",
       "        vertical-align: top;\n",
       "    }\n",
       "\n",
       "    .dataframe thead th {\n",
       "        text-align: right;\n",
       "    }\n",
       "</style>\n",
       "<table border=\"1\" class=\"dataframe\">\n",
       "  <thead>\n",
       "    <tr style=\"text-align: right;\">\n",
       "      <th></th>\n",
       "      <th>ph_url</th>\n",
       "    </tr>\n",
       "  </thead>\n",
       "  <tbody>\n",
       "    <tr>\n",
       "      <th>0</th>\n",
       "      <td>http://dbpedia.org/resource/A.K._Chatterjee</td>\n",
       "    </tr>\n",
       "    <tr>\n",
       "      <th>1</th>\n",
       "      <td>http://dbpedia.org/resource/A._C._Ewing</td>\n",
       "    </tr>\n",
       "  </tbody>\n",
       "</table>\n",
       "</div>"
      ],
      "text/plain": [
       "                                        ph_url\n",
       "0  http://dbpedia.org/resource/A.K._Chatterjee\n",
       "1      http://dbpedia.org/resource/A._C._Ewing"
      ]
     },
     "execution_count": 104,
     "metadata": {},
     "output_type": "execute_result"
    }
   ],
   "source": [
    "df_philosophers.head(2)"
   ]
  },
  {
   "cell_type": "code",
   "execution_count": 105,
   "id": "52d8c6e9-843e-4525-954b-566fa61e0a8d",
   "metadata": {
    "tags": []
   },
   "outputs": [],
   "source": [
    "regex_search = r'^.*resource\\/(.*)$'\n",
    "\n",
    "df_philosophers['ph_name'] = df_philosophers['ph_url'].str.extract(regex_search)\n",
    "\n",
    "df_influence_from['ph_name'] = df_influence_from['ph_url'].str.extract(regex_search)\n",
    "df_influence_from['infl_from_name'] = df_influence_from['infl_from_url'].str.extract(regex_search)\n",
    "\n",
    "df_influence_to['ph_name'] = df_influence_to['ph_url'].str.extract(regex_search)\n",
    "df_influence_to['infl_to_name'] = df_influence_to['infl_to_url'].str.extract(regex_search)"
   ]
  },
  {
   "cell_type": "markdown",
   "id": "df088204-e133-4128-b81d-9b564a870339",
   "metadata": {},
   "source": [
    "Lets check how the data looks"
   ]
  },
  {
   "cell_type": "code",
   "execution_count": 106,
   "id": "d7d42038-4543-4998-bab6-b0311a9a770e",
   "metadata": {},
   "outputs": [
    {
     "data": {
      "text/html": [
       "<div>\n",
       "<style scoped>\n",
       "    .dataframe tbody tr th:only-of-type {\n",
       "        vertical-align: middle;\n",
       "    }\n",
       "\n",
       "    .dataframe tbody tr th {\n",
       "        vertical-align: top;\n",
       "    }\n",
       "\n",
       "    .dataframe thead th {\n",
       "        text-align: right;\n",
       "    }\n",
       "</style>\n",
       "<table border=\"1\" class=\"dataframe\">\n",
       "  <thead>\n",
       "    <tr style=\"text-align: right;\">\n",
       "      <th></th>\n",
       "      <th>ph_url</th>\n",
       "      <th>ph_name</th>\n",
       "    </tr>\n",
       "  </thead>\n",
       "  <tbody>\n",
       "    <tr>\n",
       "      <th>0</th>\n",
       "      <td>http://dbpedia.org/resource/A.K._Chatterjee</td>\n",
       "      <td>A.K._Chatterjee</td>\n",
       "    </tr>\n",
       "    <tr>\n",
       "      <th>1</th>\n",
       "      <td>http://dbpedia.org/resource/A._C._Ewing</td>\n",
       "      <td>A._C._Ewing</td>\n",
       "    </tr>\n",
       "  </tbody>\n",
       "</table>\n",
       "</div>"
      ],
      "text/plain": [
       "                                        ph_url          ph_name\n",
       "0  http://dbpedia.org/resource/A.K._Chatterjee  A.K._Chatterjee\n",
       "1      http://dbpedia.org/resource/A._C._Ewing      A._C._Ewing"
      ]
     },
     "execution_count": 106,
     "metadata": {},
     "output_type": "execute_result"
    }
   ],
   "source": [
    "df_philosophers.head(2)"
   ]
  },
  {
   "cell_type": "code",
   "execution_count": 107,
   "id": "46268c9f-1974-4d99-8d69-d61390c4d66c",
   "metadata": {},
   "outputs": [
    {
     "data": {
      "text/html": [
       "<div>\n",
       "<style scoped>\n",
       "    .dataframe tbody tr th:only-of-type {\n",
       "        vertical-align: middle;\n",
       "    }\n",
       "\n",
       "    .dataframe tbody tr th {\n",
       "        vertical-align: top;\n",
       "    }\n",
       "\n",
       "    .dataframe thead th {\n",
       "        text-align: right;\n",
       "    }\n",
       "</style>\n",
       "<table border=\"1\" class=\"dataframe\">\n",
       "  <thead>\n",
       "    <tr style=\"text-align: right;\">\n",
       "      <th></th>\n",
       "      <th>ph_url</th>\n",
       "      <th>infl_from_url</th>\n",
       "      <th>ph_name</th>\n",
       "      <th>infl_from_name</th>\n",
       "    </tr>\n",
       "  </thead>\n",
       "  <tbody>\n",
       "    <tr>\n",
       "      <th>0</th>\n",
       "      <td>http://dbpedia.org/resource/A._C._Ewing</td>\n",
       "      <td>http://dbpedia.org/resource/Brand_Blanshard</td>\n",
       "      <td>A._C._Ewing</td>\n",
       "      <td>Brand_Blanshard</td>\n",
       "    </tr>\n",
       "    <tr>\n",
       "      <th>1</th>\n",
       "      <td>http://dbpedia.org/resource/A._D._Gordon</td>\n",
       "      <td>http://dbpedia.org/resource/Leo_Tolstoy</td>\n",
       "      <td>A._D._Gordon</td>\n",
       "      <td>Leo_Tolstoy</td>\n",
       "    </tr>\n",
       "  </tbody>\n",
       "</table>\n",
       "</div>"
      ],
      "text/plain": [
       "                                     ph_url  \\\n",
       "0   http://dbpedia.org/resource/A._C._Ewing   \n",
       "1  http://dbpedia.org/resource/A._D._Gordon   \n",
       "\n",
       "                                 infl_from_url       ph_name   infl_from_name  \n",
       "0  http://dbpedia.org/resource/Brand_Blanshard   A._C._Ewing  Brand_Blanshard  \n",
       "1      http://dbpedia.org/resource/Leo_Tolstoy  A._D._Gordon      Leo_Tolstoy  "
      ]
     },
     "execution_count": 107,
     "metadata": {},
     "output_type": "execute_result"
    }
   ],
   "source": [
    "df_influence_from.head(2)"
   ]
  },
  {
   "cell_type": "markdown",
   "id": "97b913a8-3152-44e2-ac80-0f70caabb4ef",
   "metadata": {},
   "source": [
    "We also should check if there have been any errors"
   ]
  },
  {
   "cell_type": "code",
   "execution_count": 108,
   "id": "1abb2802-b1ae-4148-a40b-a58484011ce0",
   "metadata": {},
   "outputs": [
    {
     "name": "stdout",
     "output_type": "stream",
     "text": [
      "False\n",
      "False\n",
      "True\n"
     ]
    }
   ],
   "source": [
    "print(df_philosophers.isnull().any().any())\n",
    "print(df_influence_from.isnull().any().any())\n",
    "print(df_influence_to.isnull().any().any())"
   ]
  },
  {
   "cell_type": "markdown",
   "id": "8d3842fd-096d-49c6-9c3a-436e6590b0ea",
   "metadata": {},
   "source": [
    "Some NaNs in df_influence_to, **Uh oh!** Lets dig deeper"
   ]
  },
  {
   "cell_type": "code",
   "execution_count": 109,
   "id": "1a10c599-ed11-4cd2-9d38-dcfd305f24ee",
   "metadata": {},
   "outputs": [
    {
     "data": {
      "text/html": [
       "<table border=\"1\" class=\"dataframe\">\n",
       "  <thead>\n",
       "    <tr style=\"text-align: right;\">\n",
       "      <th></th>\n",
       "      <th>ph_url</th>\n",
       "      <th>infl_to_url</th>\n",
       "      <th>ph_name</th>\n",
       "      <th>infl_to_name</th>\n",
       "    </tr>\n",
       "  </thead>\n",
       "  <tbody>\n",
       "    <tr>\n",
       "      <th>5087</th>\n",
       "      <td>http://dbpedia.org/resource/T._K._Seung</td>\n",
       "      <td>https://las.depaul.edu/academics/political-science/faculty/Pages/david-lay-williams.aspx</td>\n",
       "      <td>T._K._Seung</td>\n",
       "      <td>NaN</td>\n",
       "    </tr>\n",
       "  </tbody>\n",
       "</table>"
      ],
      "text/plain": [
       "<IPython.core.display.HTML object>"
      ]
     },
     "metadata": {},
     "output_type": "display_data"
    }
   ],
   "source": [
    "display(HTML(df_influence_to[df_influence_to.isnull().any(axis=1)].to_html()))"
   ]
  },
  {
   "cell_type": "markdown",
   "id": "a861269e-0e51-4b80-87f1-568e8a61a935",
   "metadata": {},
   "source": [
    "It seems that for one of the entries, the influence_to URL points outside wikipedia. This is a error in the dataset. We'll drop this datapoint"
   ]
  },
  {
   "cell_type": "code",
   "execution_count": 110,
   "id": "ba9d5712-2db8-412a-88c7-6efc042de974",
   "metadata": {},
   "outputs": [],
   "source": [
    "df_influence_to = df_influence_to[~df_influence_to.isnull().any(axis=1)]"
   ]
  },
  {
   "cell_type": "markdown",
   "id": "87d6e976-e5e8-4f70-88c5-874fbed65a4d",
   "metadata": {},
   "source": [
    "Sort the list of philosophers by name"
   ]
  },
  {
   "cell_type": "code",
   "execution_count": 111,
   "id": "8d562174-49f5-4456-a54d-78229a963f0c",
   "metadata": {
    "tags": []
   },
   "outputs": [],
   "source": [
    "df_philosophers.sort_values('ph_name', inplace=True)"
   ]
  },
  {
   "cell_type": "markdown",
   "id": "acc92c41-2cfb-4fbe-a250-afd037514198",
   "metadata": {},
   "source": [
    "So good to go? Sadly no\n",
    "\n",
    "While eyeballing the data, a problem was spotted. The data set has two distinct pages on the great logician Frege:\n",
    "1. https://dbpedia.org/page/Gottlob_Frege\n",
    "2. https://dbpedia.org/page/Gottlob_Frege__Gottlob_Frege__1\n",
    "\n",
    "On invetigation, one finds that this is not true for all Philosophers. A few have duplicate pages like this but most do not. It is not immediately clear why this is the case - some quirk of Wikipedia? Perhaps, but we shall deal with it!"
   ]
  },
  {
   "cell_type": "markdown",
   "id": "176ef748-b7dc-472a-8343-0464cb7ad8c8",
   "metadata": {},
   "source": [
    "#### Linking duplicate pages"
   ]
  },
  {
   "cell_type": "markdown",
   "id": "9c22f7dd-90d8-4027-8c08-727429387aa0",
   "metadata": {},
   "source": [
    "So we need to come up with a scheme to Map multiple pages on one Philosophers (if they exist). Following is a simple scheme:"
   ]
  },
  {
   "cell_type": "markdown",
   "id": "6fb7080c-13e7-4c26-ae96-a93cfbac0642",
   "metadata": {},
   "source": [
    "1. In the ph_name field of df_philosophers, test for string duplication using first n characters (n = 10 below)\n",
    "2. For the rows that are highlighted as duplicates, test for duplication in the first two words of the name (a word is taken to be separated by underscores, and includes initials. So A._C._Ewing will have three words while Bertrand_Russell will have two)\n",
    "3. For the rows highlighted as duplicates in test #2, manually check and create a map for true duplicates"
   ]
  },
  {
   "cell_type": "code",
   "execution_count": 112,
   "id": "2957b55f-819b-476f-80e5-615aef780f94",
   "metadata": {},
   "outputs": [],
   "source": [
    "df_philosophers['dup_test_col1'] = df_philosophers['ph_name'].str[:10]\n",
    "\n",
    "regex_search = r'^([^_^\\n]*_[^_^\\n]*).*$'\n",
    "df_philosophers['dup_test_col2'] = df_philosophers['ph_name'].str.extract(regex_search)"
   ]
  },
  {
   "cell_type": "code",
   "execution_count": 113,
   "id": "71901d6a-4fe6-4a00-a059-004d76c83391",
   "metadata": {},
   "outputs": [
    {
     "data": {
      "text/html": [
       "<div>\n",
       "<style scoped>\n",
       "    .dataframe tbody tr th:only-of-type {\n",
       "        vertical-align: middle;\n",
       "    }\n",
       "\n",
       "    .dataframe tbody tr th {\n",
       "        vertical-align: top;\n",
       "    }\n",
       "\n",
       "    .dataframe thead th {\n",
       "        text-align: right;\n",
       "    }\n",
       "</style>\n",
       "<table border=\"1\" class=\"dataframe\">\n",
       "  <thead>\n",
       "    <tr style=\"text-align: right;\">\n",
       "      <th></th>\n",
       "      <th>ph_url</th>\n",
       "      <th>ph_name</th>\n",
       "      <th>dup_test_col1</th>\n",
       "      <th>dup_test_col2</th>\n",
       "    </tr>\n",
       "  </thead>\n",
       "  <tbody>\n",
       "    <tr>\n",
       "      <th>857</th>\n",
       "      <td>http://dbpedia.org/resource/'Abd_al-Haqq_al-De...</td>\n",
       "      <td>'Abd_al-Haqq_al-Dehlawi__1</td>\n",
       "      <td>'Abd_al-Ha</td>\n",
       "      <td>'Abd_al-Haqq</td>\n",
       "    </tr>\n",
       "    <tr>\n",
       "      <th>0</th>\n",
       "      <td>http://dbpedia.org/resource/A.K._Chatterjee</td>\n",
       "      <td>A.K._Chatterjee</td>\n",
       "      <td>A.K._Chatt</td>\n",
       "      <td>A.K._Chatterjee</td>\n",
       "    </tr>\n",
       "    <tr>\n",
       "      <th>1</th>\n",
       "      <td>http://dbpedia.org/resource/A._C._Ewing</td>\n",
       "      <td>A._C._Ewing</td>\n",
       "      <td>A._C._Ewin</td>\n",
       "      <td>A._C.</td>\n",
       "    </tr>\n",
       "  </tbody>\n",
       "</table>\n",
       "</div>"
      ],
      "text/plain": [
       "                                                ph_url  \\\n",
       "857  http://dbpedia.org/resource/'Abd_al-Haqq_al-De...   \n",
       "0          http://dbpedia.org/resource/A.K._Chatterjee   \n",
       "1              http://dbpedia.org/resource/A._C._Ewing   \n",
       "\n",
       "                        ph_name dup_test_col1    dup_test_col2  \n",
       "857  'Abd_al-Haqq_al-Dehlawi__1    'Abd_al-Ha     'Abd_al-Haqq  \n",
       "0               A.K._Chatterjee    A.K._Chatt  A.K._Chatterjee  \n",
       "1                   A._C._Ewing    A._C._Ewin            A._C.  "
      ]
     },
     "execution_count": 113,
     "metadata": {},
     "output_type": "execute_result"
    }
   ],
   "source": [
    "df_philosophers.head(3)"
   ]
  },
  {
   "cell_type": "code",
   "execution_count": 114,
   "id": "c2d963b4-e259-49c6-aeec-5f2057157976",
   "metadata": {},
   "outputs": [
    {
     "data": {
      "text/plain": [
       "102"
      ]
     },
     "execution_count": 114,
     "metadata": {},
     "output_type": "execute_result"
    }
   ],
   "source": [
    "df_dup_test1 = df_philosophers.groupby('dup_test_col1').count()\n",
    "list_suspected_dups_test1 = list(df_dup_test1[df_dup_test1['ph_name'] > 1].index)\n",
    "len(list_suspected_dups_test1)"
   ]
  },
  {
   "cell_type": "markdown",
   "id": "a453329a-224a-4762-b7a3-b48db90c1c77",
   "metadata": {},
   "source": [
    "We found 102 potential duplicates out of 2854 total rows"
   ]
  },
  {
   "cell_type": "code",
   "execution_count": 115,
   "id": "22f23d3d-c763-4989-adb7-316c22c77530",
   "metadata": {},
   "outputs": [
    {
     "data": {
      "text/plain": [
       "36"
      ]
     },
     "execution_count": 115,
     "metadata": {},
     "output_type": "execute_result"
    }
   ],
   "source": [
    "df_dup_test2 = df_philosophers[df_philosophers['dup_test_col1'].isin(list_suspected_dups_test1)]\n",
    "df_dup_test2 = df_dup_test2.groupby('dup_test_col2').count()\n",
    "list_suspected_dups_test2 = list(df_dup_test2[df_dup_test2['ph_name'] > 1].index)\n",
    "len(list_suspected_dups_test2)"
   ]
  },
  {
   "cell_type": "markdown",
   "id": "404bddb5-d992-4941-9dcd-a354c69272a4",
   "metadata": {},
   "source": [
    "We were able to reduce the list of duplicates to 36. Now we shall just export this as CSV and manually create a mapping for true duplicates"
   ]
  },
  {
   "cell_type": "code",
   "execution_count": 116,
   "id": "e4502709-3e0a-45b0-9123-7617f46dacb7",
   "metadata": {},
   "outputs": [],
   "source": [
    "df_philosophers[df_philosophers['dup_test_col2'].isin(list_suspected_dups_test2)].to_csv('suspected_dups.csv', index = False)"
   ]
  },
  {
   "cell_type": "code",
   "execution_count": 117,
   "id": "a525095c-04e5-49e7-a040-9bb9506bf19c",
   "metadata": {},
   "outputs": [
    {
     "name": "stdout",
     "output_type": "stream",
     "text": [
      "(36, 5)\n",
      "(42, 5)\n"
     ]
    }
   ],
   "source": [
    "df_dups_mapping = pd.read_csv('dups_mapping.csv')\n",
    "print(df_dups_mapping[df_dups_mapping['Map'].isna()].shape)\n",
    "print(df_dups_mapping[~df_dups_mapping['Map'].isna()].shape)"
   ]
  },
  {
   "cell_type": "markdown",
   "id": "cf075f2f-7b3e-4eed-9d36-c34dd62b82bf",
   "metadata": {},
   "source": [
    "As confirmed earlier, our manual inspection also found 36 duplicates. Each of these have been mapped to a single value which corresponds to the ph_name attribute of the philosopher"
   ]
  },
  {
   "cell_type": "code",
   "execution_count": 118,
   "id": "fc00ddd9-ea21-4309-b224-e77920ae92dd",
   "metadata": {},
   "outputs": [
    {
     "data": {
      "text/html": [
       "<div>\n",
       "<style scoped>\n",
       "    .dataframe tbody tr th:only-of-type {\n",
       "        vertical-align: middle;\n",
       "    }\n",
       "\n",
       "    .dataframe tbody tr th {\n",
       "        vertical-align: top;\n",
       "    }\n",
       "\n",
       "    .dataframe thead th {\n",
       "        text-align: right;\n",
       "    }\n",
       "</style>\n",
       "<table border=\"1\" class=\"dataframe\">\n",
       "  <thead>\n",
       "    <tr style=\"text-align: right;\">\n",
       "      <th></th>\n",
       "      <th>ph_url</th>\n",
       "      <th>ph_name</th>\n",
       "      <th>dup_test_col1</th>\n",
       "      <th>dup_test_col2</th>\n",
       "      <th>Map</th>\n",
       "    </tr>\n",
       "  </thead>\n",
       "  <tbody>\n",
       "    <tr>\n",
       "      <th>2</th>\n",
       "      <td>http://dbpedia.org/resource/Algernon_Sidney</td>\n",
       "      <td>Algernon_Sidney</td>\n",
       "      <td>Algernon_S</td>\n",
       "      <td>Algernon_Sidney</td>\n",
       "      <td>Algernon_Sidney</td>\n",
       "    </tr>\n",
       "    <tr>\n",
       "      <th>3</th>\n",
       "      <td>http://dbpedia.org/resource/Algernon_Sidney__A...</td>\n",
       "      <td>Algernon_Sidney__Algernon_Sidney__1</td>\n",
       "      <td>Algernon_S</td>\n",
       "      <td>Algernon_Sidney</td>\n",
       "      <td>Algernon_Sidney</td>\n",
       "    </tr>\n",
       "    <tr>\n",
       "      <th>4</th>\n",
       "      <td>http://dbpedia.org/resource/Allan_Bloom</td>\n",
       "      <td>Allan_Bloom</td>\n",
       "      <td>Allan_Bloo</td>\n",
       "      <td>Allan_Bloom</td>\n",
       "      <td>Allan_Bloom</td>\n",
       "    </tr>\n",
       "    <tr>\n",
       "      <th>5</th>\n",
       "      <td>http://dbpedia.org/resource/Allan_Bloom__Allan...</td>\n",
       "      <td>Allan_Bloom__Allan_Bloom__1</td>\n",
       "      <td>Allan_Bloo</td>\n",
       "      <td>Allan_Bloom</td>\n",
       "      <td>Allan_Bloom</td>\n",
       "    </tr>\n",
       "  </tbody>\n",
       "</table>\n",
       "</div>"
      ],
      "text/plain": [
       "                                              ph_url  \\\n",
       "2        http://dbpedia.org/resource/Algernon_Sidney   \n",
       "3  http://dbpedia.org/resource/Algernon_Sidney__A...   \n",
       "4            http://dbpedia.org/resource/Allan_Bloom   \n",
       "5  http://dbpedia.org/resource/Allan_Bloom__Allan...   \n",
       "\n",
       "                               ph_name dup_test_col1    dup_test_col2  \\\n",
       "2                      Algernon_Sidney    Algernon_S  Algernon_Sidney   \n",
       "3  Algernon_Sidney__Algernon_Sidney__1    Algernon_S  Algernon_Sidney   \n",
       "4                          Allan_Bloom    Allan_Bloo      Allan_Bloom   \n",
       "5          Allan_Bloom__Allan_Bloom__1    Allan_Bloo      Allan_Bloom   \n",
       "\n",
       "               Map  \n",
       "2  Algernon_Sidney  \n",
       "3  Algernon_Sidney  \n",
       "4      Allan_Bloom  \n",
       "5      Allan_Bloom  "
      ]
     },
     "execution_count": 118,
     "metadata": {},
     "output_type": "execute_result"
    }
   ],
   "source": [
    "df_dups_mapping = df_dups_mapping[~df_dups_mapping['Map'].isna()]\n",
    "df_dups_mapping.head(4)"
   ]
  },
  {
   "cell_type": "markdown",
   "id": "b1db8f37-6fab-48f7-a0e5-51a4f6f102c8",
   "metadata": {},
   "source": [
    "Now we use this map to replace the name fields in all dataframes with the mapped name"
   ]
  },
  {
   "cell_type": "code",
   "execution_count": 119,
   "id": "423c96a9-57b2-46a2-850d-1ac2d6ea7641",
   "metadata": {},
   "outputs": [],
   "source": [
    "dict_dups_mapping = df_dups_mapping[['ph_name','Map']].set_index('ph_name').T.to_dict('records')[0]\n",
    "# Adapted from https://stackoverflow.com/questions/26716616/convert-a-pandas-dataframe-to-a-dictionary"
   ]
  },
  {
   "cell_type": "code",
   "execution_count": 120,
   "id": "917847a9-3639-4fa0-a6b6-a6e84930fe86",
   "metadata": {},
   "outputs": [],
   "source": [
    "df_philosophers['ph_name_dedupl'] = df_philosophers['ph_name']\n",
    "df_philosophers['ph_name_dedupl'] = df_philosophers['ph_name_dedupl'].replace(dict_dups_mapping)"
   ]
  },
  {
   "cell_type": "markdown",
   "id": "74bc702e-9522-4849-9bf5-a24aec7dd3be",
   "metadata": {},
   "source": [
    "So lets check if we have been able to make the doppelganger of Herr Frege disappear"
   ]
  },
  {
   "cell_type": "code",
   "execution_count": 121,
   "id": "b9051a2b-e54b-425f-b8a4-b4969b24dce1",
   "metadata": {},
   "outputs": [
    {
     "data": {
      "text/html": [
       "<div>\n",
       "<style scoped>\n",
       "    .dataframe tbody tr th:only-of-type {\n",
       "        vertical-align: middle;\n",
       "    }\n",
       "\n",
       "    .dataframe tbody tr th {\n",
       "        vertical-align: top;\n",
       "    }\n",
       "\n",
       "    .dataframe thead th {\n",
       "        text-align: right;\n",
       "    }\n",
       "</style>\n",
       "<table border=\"1\" class=\"dataframe\">\n",
       "  <thead>\n",
       "    <tr style=\"text-align: right;\">\n",
       "      <th></th>\n",
       "      <th>ph_url</th>\n",
       "      <th>ph_name</th>\n",
       "      <th>dup_test_col1</th>\n",
       "      <th>dup_test_col2</th>\n",
       "      <th>ph_name_dedupl</th>\n",
       "    </tr>\n",
       "  </thead>\n",
       "  <tbody>\n",
       "    <tr>\n",
       "      <th>2451</th>\n",
       "      <td>http://dbpedia.org/resource/Gottlob_Frege</td>\n",
       "      <td>Gottlob_Frege</td>\n",
       "      <td>Gottlob_Fr</td>\n",
       "      <td>Gottlob_Frege</td>\n",
       "      <td>Gottlob_Frege</td>\n",
       "    </tr>\n",
       "    <tr>\n",
       "      <th>2839</th>\n",
       "      <td>http://dbpedia.org/resource/Gottlob_Frege__Got...</td>\n",
       "      <td>Gottlob_Frege__Gottlob_Frege__1</td>\n",
       "      <td>Gottlob_Fr</td>\n",
       "      <td>Gottlob_Frege</td>\n",
       "      <td>Gottlob_Frege</td>\n",
       "    </tr>\n",
       "  </tbody>\n",
       "</table>\n",
       "</div>"
      ],
      "text/plain": [
       "                                                 ph_url  \\\n",
       "2451          http://dbpedia.org/resource/Gottlob_Frege   \n",
       "2839  http://dbpedia.org/resource/Gottlob_Frege__Got...   \n",
       "\n",
       "                              ph_name dup_test_col1  dup_test_col2  \\\n",
       "2451                    Gottlob_Frege    Gottlob_Fr  Gottlob_Frege   \n",
       "2839  Gottlob_Frege__Gottlob_Frege__1    Gottlob_Fr  Gottlob_Frege   \n",
       "\n",
       "     ph_name_dedupl  \n",
       "2451  Gottlob_Frege  \n",
       "2839  Gottlob_Frege  "
      ]
     },
     "execution_count": 121,
     "metadata": {},
     "output_type": "execute_result"
    }
   ],
   "source": [
    "df_philosophers[df_philosophers['ph_name'].str.contains('Frege')]"
   ]
  },
  {
   "cell_type": "markdown",
   "id": "5e6ed8b4-d7f7-4753-8e97-ba21d681c4e0",
   "metadata": {},
   "source": [
    "Success!\n",
    "\n",
    "Finally, check for errors:"
   ]
  },
  {
   "cell_type": "code",
   "execution_count": 122,
   "id": "cd1ff7de-c86a-4f7a-872f-d8ad0c651121",
   "metadata": {},
   "outputs": [
    {
     "data": {
      "text/plain": [
       "False"
      ]
     },
     "execution_count": 122,
     "metadata": {},
     "output_type": "execute_result"
    }
   ],
   "source": [
    "df_philosophers['ph_name_dedupl'].isna().any()"
   ]
  },
  {
   "cell_type": "markdown",
   "id": "29fc170b-6d7a-41d5-b429-51a3accc148d",
   "metadata": {},
   "source": [
    "Do the same for other two dataframes"
   ]
  },
  {
   "cell_type": "code",
   "execution_count": 123,
   "id": "889d6c0a-0d61-4795-93af-f69caa775026",
   "metadata": {},
   "outputs": [
    {
     "data": {
      "text/plain": [
       "ph_name_dedupl           False\n",
       "infl_from_name_dedupl    False\n",
       "dtype: bool"
      ]
     },
     "execution_count": 123,
     "metadata": {},
     "output_type": "execute_result"
    }
   ],
   "source": [
    "df_influence_from['ph_name_dedupl'] = df_influence_from['ph_name'].replace(dict_dups_mapping)\n",
    "df_influence_from['infl_from_name_dedupl'] = df_influence_from['infl_from_name'].replace(dict_dups_mapping)\n",
    "df_influence_from[['ph_name_dedupl','infl_from_name_dedupl']].isna().any()"
   ]
  },
  {
   "cell_type": "code",
   "execution_count": 124,
   "id": "0a66d6ec-006c-420e-9d64-87eba1c5f79e",
   "metadata": {},
   "outputs": [
    {
     "data": {
      "text/plain": [
       "ph_name_dedupl         False\n",
       "infl_to_name_dedupl    False\n",
       "dtype: bool"
      ]
     },
     "execution_count": 124,
     "metadata": {},
     "output_type": "execute_result"
    }
   ],
   "source": [
    "df_influence_to['ph_name_dedupl'] = df_influence_to['ph_name'].replace(dict_dups_mapping)\n",
    "df_influence_to['infl_to_name_dedupl'] = df_influence_to['infl_to_name'].replace(dict_dups_mapping)\n",
    "df_influence_to[['ph_name_dedupl','infl_to_name_dedupl']].isna().any()"
   ]
  },
  {
   "cell_type": "markdown",
   "id": "0748834b-bd2d-4e17-a25f-50a4e09fb7f4",
   "metadata": {},
   "source": [
    "FINALLY were are at the moment of synthesis!\n",
    "\n",
    "We have two dataframes where each row is a relationship or link. On one side is an influencer and on the other is the influenced\n",
    "\n",
    "1. Change the column names to a common format:\n",
    "\n",
    "        a. infl_from_url, infl_from_name -  Page URL name of philosopher who is the influencer in the relationship\n",
    "        b. infl_to_url, infl_to_name - Page URL and name of philosopher who is getting the influence in the relationship\n",
    "        \n",
    "2. Concatenate the dataframes\n",
    "3. Remove duplicate links"
   ]
  },
  {
   "cell_type": "code",
   "execution_count": 125,
   "id": "1bcf1e45-3c80-48a7-a893-ea8b3b1a85fe",
   "metadata": {},
   "outputs": [],
   "source": [
    "df_influence_from_concat = df_influence_from[['ph_name_dedupl','ph_url','infl_from_name_dedupl','infl_from_url']]\n",
    "df_influence_from_concat = df_influence_from_concat.rename(columns =\n",
    "                                                           {'ph_name_dedupl':'infl_to_name','ph_url':'infl_to_url','infl_from_name_dedupl':'infl_from_name','infl_from_url':'infl_from_url'})\n",
    "\n",
    "df_influence_to_concat = df_influence_to[['ph_name_dedupl','ph_url','infl_to_name_dedupl','infl_to_url']]\n",
    "df_influence_to_concat = df_influence_to_concat.rename(columns = \n",
    "                                                       {'ph_name_dedupl':'infl_from_name','ph_url':'infl_from_url','infl_to_name_dedupl':'infl_to_name','infl_to_url':'infl_to_url',})\n",
    "\n",
    "df_influence_links = pd.concat([df_influence_from_concat, df_influence_to_concat], join='inner', ignore_index=True)\n",
    "\n",
    "df_influence_links = df_influence_links.drop_duplicates(keep='first',  ignore_index=True)"
   ]
  },
  {
   "cell_type": "markdown",
   "id": "0f0d7a79-ecac-4640-9ce7-6d53f7a3239f",
   "metadata": {},
   "source": [
    "But wait! We have not solved the consideration #2 yet: \"The subject and object of each relation can be a Person, Work or School of Thought (e.g., Neoplatonism). We are only interested in links between Philosophers, a subset of the category Persons. We will need to filter the data appropriately for this\"\n",
    "\n",
    "Lets do it"
   ]
  },
  {
   "cell_type": "code",
   "execution_count": 126,
   "id": "12c8aa4c-4fb1-44fa-a50b-1d0ce374abd2",
   "metadata": {},
   "outputs": [],
   "source": [
    "set_philosophers = set(df_philosophers['ph_name_dedupl'])\n",
    "df_influence_links = df_influence_links[df_influence_links['infl_to_name'].isin(set_philosophers)]\n",
    "df_influence_links = df_influence_links[df_influence_links['infl_from_name'].isin(set_philosophers)]"
   ]
  },
  {
   "cell_type": "code",
   "execution_count": 127,
   "id": "a0b1e0a9-50a7-4a84-9e4b-392d590a89d5",
   "metadata": {},
   "outputs": [
    {
     "name": "stdout",
     "output_type": "stream",
     "text": [
      "(6214, 4)\n",
      "1636\n",
      "881\n"
     ]
    }
   ],
   "source": [
    "print(df_influence_links.shape)\n",
    "print(len(set(df_influence_links['infl_to_name'])))\n",
    "print(len(set(df_influence_links['infl_from_name'])))"
   ]
  },
  {
   "cell_type": "markdown",
   "id": "5f943b64-ad58-4c5e-ad5d-5ea92cd2c580",
   "metadata": {},
   "source": [
    "So finally, we have a dataset with 6214 unique relationships with 1636 influencers and 881 influenced. \n",
    "\n",
    "Final check for errors"
   ]
  },
  {
   "cell_type": "code",
   "execution_count": 128,
   "id": "648a44e1-48bb-4f80-963e-6e9001de6c64",
   "metadata": {},
   "outputs": [
    {
     "data": {
      "text/plain": [
       "infl_to_name      False\n",
       "infl_to_url       False\n",
       "infl_from_name    False\n",
       "infl_from_url     False\n",
       "dtype: bool"
      ]
     },
     "execution_count": 128,
     "metadata": {},
     "output_type": "execute_result"
    }
   ],
   "source": [
    "df_influence_links.isna().any()"
   ]
  },
  {
   "cell_type": "markdown",
   "id": "20279abf-a0f4-4efd-b703-6029aea888da",
   "metadata": {},
   "source": [
    "Time to have fun!"
   ]
  },
  {
   "cell_type": "code",
   "execution_count": 129,
   "id": "505d8c3b-11fd-4e9c-85d0-2927606f1ce4",
   "metadata": {},
   "outputs": [],
   "source": [
    "df_influence_links.to_csv('results_links.csv', index = False)"
   ]
  },
  {
   "cell_type": "code",
   "execution_count": 138,
   "id": "05662ddc-e7ed-4976-8a69-f7bbab0a4534",
   "metadata": {},
   "outputs": [],
   "source": [
    "df_count_infl_to = df_influence_links.groupby('infl_from_name', as_index=False)['infl_to_name'].count().rename(columns={'infl_from_name':'ph_name','infl_to_name':'count_influence_to'})\n",
    "df_count_infl_from = df_influence_links.groupby('infl_to_name', as_index=False)['infl_from_name'].count().rename(columns={'infl_to_name':'ph_name', 'infl_from_name':'count_influence_from'})\n",
    "df_count_infl = pd.merge(df_count_infl_to, df_count_infl_from, how = 'outer', on = 'ph_name').fillna(0)\n",
    "df_count_infl['displname'] = df_count_infl['ph_name'].replace(r'_', ' ', regex=True).replace(r'\\.', '', regex=True)\n",
    "df_count_infl = pd.merge(df_count_infl, df_philosophers[['ph_name','ph_url']], how='left', on='ph_name')\n",
    "df_count_infl['ph_url'] = df_count_infl['ph_url'].replace(r'dbpedia.org/resource',r'en.wikipedia.org/wiki', regex=True)\n",
    "df_count_infl.to_csv('results_nodes.csv', index = False)\n",
    "df_count_infl.to_json('results_nodes.json', orient = 'records', force_ascii=False)"
   ]
  },
  {
   "cell_type": "code",
   "execution_count": 136,
   "id": "e70870e3-a5fc-49e2-b751-67bc7cce1d18",
   "metadata": {},
   "outputs": [
    {
     "data": {
      "text/html": [
       "<div>\n",
       "<style scoped>\n",
       "    .dataframe tbody tr th:only-of-type {\n",
       "        vertical-align: middle;\n",
       "    }\n",
       "\n",
       "    .dataframe tbody tr th {\n",
       "        vertical-align: top;\n",
       "    }\n",
       "\n",
       "    .dataframe thead th {\n",
       "        text-align: right;\n",
       "    }\n",
       "</style>\n",
       "<table border=\"1\" class=\"dataframe\">\n",
       "  <thead>\n",
       "    <tr style=\"text-align: right;\">\n",
       "      <th></th>\n",
       "      <th>ph_name</th>\n",
       "      <th>count_influence_to</th>\n",
       "      <th>count_influence_from</th>\n",
       "      <th>displname</th>\n",
       "      <th>ph_url</th>\n",
       "    </tr>\n",
       "  </thead>\n",
       "  <tbody>\n",
       "    <tr>\n",
       "      <th>0</th>\n",
       "      <td>A._J._Ayer</td>\n",
       "      <td>7.0</td>\n",
       "      <td>7.0</td>\n",
       "      <td>A J Ayer</td>\n",
       "      <td>http://en.wikipedia.org/wiki/A._J._Ayer</td>\n",
       "    </tr>\n",
       "    <tr>\n",
       "      <th>1</th>\n",
       "      <td>Abdolkarim_Soroush</td>\n",
       "      <td>1.0</td>\n",
       "      <td>1.0</td>\n",
       "      <td>Abdolkarim Soroush</td>\n",
       "      <td>http://en.wikipedia.org/wiki/Abdolkarim_Soroush</td>\n",
       "    </tr>\n",
       "    <tr>\n",
       "      <th>2</th>\n",
       "      <td>Abdulhakim_Arvasi</td>\n",
       "      <td>1.0</td>\n",
       "      <td>0.0</td>\n",
       "      <td>Abdulhakim Arvasi</td>\n",
       "      <td>http://en.wikipedia.org/wiki/Abdulhakim_Arvasi</td>\n",
       "    </tr>\n",
       "    <tr>\n",
       "      <th>3</th>\n",
       "      <td>Abu_Yusuf</td>\n",
       "      <td>1.0</td>\n",
       "      <td>0.0</td>\n",
       "      <td>Abu Yusuf</td>\n",
       "      <td>http://en.wikipedia.org/wiki/Abu_Yusuf</td>\n",
       "    </tr>\n",
       "    <tr>\n",
       "      <th>4</th>\n",
       "      <td>Abu_Zayd_al-Balkhi</td>\n",
       "      <td>1.0</td>\n",
       "      <td>1.0</td>\n",
       "      <td>Abu Zayd al-Balkhi</td>\n",
       "      <td>http://en.wikipedia.org/wiki/Abu_Zayd_al-Balkhi</td>\n",
       "    </tr>\n",
       "    <tr>\n",
       "      <th>...</th>\n",
       "      <td>...</td>\n",
       "      <td>...</td>\n",
       "      <td>...</td>\n",
       "      <td>...</td>\n",
       "      <td>...</td>\n",
       "    </tr>\n",
       "    <tr>\n",
       "      <th>1751</th>\n",
       "      <td>Zhang_Weiwei_(professor)</td>\n",
       "      <td>0.0</td>\n",
       "      <td>4.0</td>\n",
       "      <td>Zhang Weiwei (professor)</td>\n",
       "      <td>http://en.wikipedia.org/wiki/Zhang_Weiwei_(pro...</td>\n",
       "    </tr>\n",
       "    <tr>\n",
       "      <th>1752</th>\n",
       "      <td>Zhao_Tingyang</td>\n",
       "      <td>0.0</td>\n",
       "      <td>7.0</td>\n",
       "      <td>Zhao Tingyang</td>\n",
       "      <td>http://en.wikipedia.org/wiki/Zhao_Tingyang</td>\n",
       "    </tr>\n",
       "    <tr>\n",
       "      <th>1753</th>\n",
       "      <td>Ágnes_Heller</td>\n",
       "      <td>0.0</td>\n",
       "      <td>4.0</td>\n",
       "      <td>Ágnes Heller</td>\n",
       "      <td>http://en.wikipedia.org/wiki/Ágnes_Heller</td>\n",
       "    </tr>\n",
       "    <tr>\n",
       "      <th>1754</th>\n",
       "      <td>Éric_Geoffroy</td>\n",
       "      <td>0.0</td>\n",
       "      <td>2.0</td>\n",
       "      <td>Éric Geoffroy</td>\n",
       "      <td>http://en.wikipedia.org/wiki/Éric_Geoffroy</td>\n",
       "    </tr>\n",
       "    <tr>\n",
       "      <th>1755</th>\n",
       "      <td>Étienne_Dumont</td>\n",
       "      <td>0.0</td>\n",
       "      <td>1.0</td>\n",
       "      <td>Étienne Dumont</td>\n",
       "      <td>http://en.wikipedia.org/wiki/Étienne_Dumont</td>\n",
       "    </tr>\n",
       "  </tbody>\n",
       "</table>\n",
       "<p>1756 rows × 5 columns</p>\n",
       "</div>"
      ],
      "text/plain": [
       "                       ph_name  count_influence_to  count_influence_from  \\\n",
       "0                   A._J._Ayer                 7.0                   7.0   \n",
       "1           Abdolkarim_Soroush                 1.0                   1.0   \n",
       "2            Abdulhakim_Arvasi                 1.0                   0.0   \n",
       "3                    Abu_Yusuf                 1.0                   0.0   \n",
       "4           Abu_Zayd_al-Balkhi                 1.0                   1.0   \n",
       "...                        ...                 ...                   ...   \n",
       "1751  Zhang_Weiwei_(professor)                 0.0                   4.0   \n",
       "1752             Zhao_Tingyang                 0.0                   7.0   \n",
       "1753              Ágnes_Heller                 0.0                   4.0   \n",
       "1754             Éric_Geoffroy                 0.0                   2.0   \n",
       "1755            Étienne_Dumont                 0.0                   1.0   \n",
       "\n",
       "                     displname  \\\n",
       "0                     A J Ayer   \n",
       "1           Abdolkarim Soroush   \n",
       "2            Abdulhakim Arvasi   \n",
       "3                    Abu Yusuf   \n",
       "4           Abu Zayd al-Balkhi   \n",
       "...                        ...   \n",
       "1751  Zhang Weiwei (professor)   \n",
       "1752             Zhao Tingyang   \n",
       "1753              Ágnes Heller   \n",
       "1754             Éric Geoffroy   \n",
       "1755            Étienne Dumont   \n",
       "\n",
       "                                                 ph_url  \n",
       "0               http://en.wikipedia.org/wiki/A._J._Ayer  \n",
       "1       http://en.wikipedia.org/wiki/Abdolkarim_Soroush  \n",
       "2        http://en.wikipedia.org/wiki/Abdulhakim_Arvasi  \n",
       "3                http://en.wikipedia.org/wiki/Abu_Yusuf  \n",
       "4       http://en.wikipedia.org/wiki/Abu_Zayd_al-Balkhi  \n",
       "...                                                 ...  \n",
       "1751  http://en.wikipedia.org/wiki/Zhang_Weiwei_(pro...  \n",
       "1752         http://en.wikipedia.org/wiki/Zhao_Tingyang  \n",
       "1753          http://en.wikipedia.org/wiki/Ágnes_Heller  \n",
       "1754         http://en.wikipedia.org/wiki/Éric_Geoffroy  \n",
       "1755        http://en.wikipedia.org/wiki/Étienne_Dumont  \n",
       "\n",
       "[1756 rows x 5 columns]"
      ]
     },
     "execution_count": 136,
     "metadata": {},
     "output_type": "execute_result"
    }
   ],
   "source": [
    "df_count_infl"
   ]
  },
  {
   "cell_type": "code",
   "execution_count": null,
   "id": "2eb5f8f8-b640-4bf7-9f64-62d396af91d7",
   "metadata": {},
   "outputs": [],
   "source": []
  }
 ],
 "metadata": {
  "kernelspec": {
   "display_name": "Python [conda env:datawrangle]",
   "language": "python",
   "name": "conda-env-datawrangle-py"
  },
  "language_info": {
   "codemirror_mode": {
    "name": "ipython",
    "version": 3
   },
   "file_extension": ".py",
   "mimetype": "text/x-python",
   "name": "python",
   "nbconvert_exporter": "python",
   "pygments_lexer": "ipython3",
   "version": "3.9.11"
  }
 },
 "nbformat": 4,
 "nbformat_minor": 5
}
